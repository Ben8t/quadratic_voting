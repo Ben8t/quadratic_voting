{
 "cells": [
  {
   "cell_type": "code",
   "execution_count": 1,
   "id": "26d73bce-bb80-4c5b-8dd0-204799daabba",
   "metadata": {},
   "outputs": [],
   "source": [
    "from scipy.stats import norm"
   ]
  },
  {
   "cell_type": "code",
   "execution_count": 200,
   "id": "ebd51608-4ee4-4e63-8b33-730bb86043f8",
   "metadata": {},
   "outputs": [],
   "source": [
    "mean = -0.6\n",
    "variance = 1"
   ]
  },
  {
   "cell_type": "code",
   "execution_count": 201,
   "id": "a1ba293f-b2bf-4724-9b0e-4dbf935b7257",
   "metadata": {},
   "outputs": [],
   "source": [
    "data_normal = norm.rvs(size=10000,loc=mean,scale=variance)"
   ]
  },
  {
   "cell_type": "code",
   "execution_count": 202,
   "id": "97f95c90-a2a4-4c6b-8bd9-e87a99e85e3f",
   "metadata": {},
   "outputs": [],
   "source": [
    "import pandas as pd\n",
    "import numpy as np"
   ]
  },
  {
   "cell_type": "code",
   "execution_count": 203,
   "id": "9e09cf8c-28ff-45e7-be81-c01091e0b117",
   "metadata": {},
   "outputs": [],
   "source": [
    "from plotnine import ggplot, aes, labs, aes, geom_histogram, theme_minimal, scale_fill_manual, scale_x_continuous, geom_vline"
   ]
  },
  {
   "cell_type": "code",
   "execution_count": 204,
   "id": "14c2bf1c-87ca-4da3-9174-cecd7d53db61",
   "metadata": {},
   "outputs": [
    {
     "data": {
      "image/png": "[encoded data removed]",
      "text/plain": [
       "<Figure size 640x480 with 1 Axes>"
      ]
     },
     "metadata": {},
     "output_type": "display_data"
    },
    {
     "data": {
      "text/plain": [
       "<ggplot: (8744233423999)>"
      ]
     },
     "execution_count": 204,
     "metadata": {},
     "output_type": "execute_result"
    }
   ],
   "source": [
    "(\n",
    "    ggplot(data=pd.DataFrame({\"value\": data_normal}))\n",
    "    + geom_histogram(aes(x=\"value\"), binwidth=0.1, position=\"dodge\")\n",
    "    + geom_vline(xintercept=mean, color=\"red\")\n",
    "    + geom_vline(xintercept=-1, color=\"blue\")\n",
    "    + geom_vline(xintercept=1, color=\"blue\")\n",
    "    + geom_vline(xintercept=-0.5, color=\"green\")\n",
    "    + geom_vline(xintercept=0.5, color=\"green\")\n",
    ")"
   ]
  },
  {
   "cell_type": "code",
   "execution_count": 170,
   "id": "2a1641d4-740f-49b1-8fb0-16d3647dc8af",
   "metadata": {},
   "outputs": [
    {
     "data": {
      "text/plain": [
       "[0.0, 0.0, 0.5]"
      ]
     },
     "execution_count": 170,
     "metadata": {},
     "output_type": "execute_result"
    }
   ],
   "source": [
    "[np.round(i, 2) for i in norm.cdf([-0.5, 0.5, mean], loc=mean, scale=variance)]"
   ]
  },
  {
   "cell_type": "code",
   "execution_count": 171,
   "id": "ab461ac9-ab97-4fd4-89bb-9d79764b5167",
   "metadata": {},
   "outputs": [
    {
     "data": {
      "text/plain": [
       "array([0.94270658, 0.96022861, 0.93188052, ..., 0.94125068, 0.95952355,\n",
       "       0.95304119])"
      ]
     },
     "execution_count": 171,
     "metadata": {},
     "output_type": "execute_result"
    }
   ],
   "source": [
    "data_normal"
   ]
  },
  {
   "cell_type": "code",
   "execution_count": 172,
   "id": "414968e3-bec6-4dca-90f9-6482993eb241",
   "metadata": {},
   "outputs": [],
   "source": [
    "def cdf_allocate(cdf_values):\n",
    "    assert len(cdf_values) == 3\n",
    "    left_wing = cdf_values[0]\n",
    "    middle_wing = cdf_values[1] - left_wing\n",
    "    right_wing = 1 - (middle_wing + left_wing)\n",
    "    assert left_wing + middle_wing + right_wing == 1\n",
    "    return {\"left_wing\": left_wing, \"middle_wing\": middle_wing, \"right_wing\": right_wing}"
   ]
  },
  {
   "cell_type": "code",
   "execution_count": 285,
   "id": "db281f33-f57b-4dd0-82fa-eff288edd12d",
   "metadata": {},
   "outputs": [],
   "source": [
    "mean = -0.75\n",
    "variance = 0.3"
   ]
  },
  {
   "cell_type": "code",
   "execution_count": 286,
   "id": "04d67571-6d1e-45f3-adc6-b6a6e30f40ff",
   "metadata": {},
   "outputs": [
    {
     "data": {
      "text/plain": [
       "{'left_wing': 0.7976716190363569,\n",
       " 'middle_wing': 0.20231292666676082,\n",
       " 'right_wing': 1.545429688232236e-05}"
      ]
     },
     "execution_count": 286,
     "metadata": {},
     "output_type": "execute_result"
    }
   ],
   "source": [
    "cdf_allocate(norm.cdf([-0.5, 0.5, mean], loc=mean, scale=variance))"
   ]
  },
  {
   "cell_type": "code",
   "execution_count": 287,
   "id": "196a22d6-e95d-4aef-993d-7543b0a7ffb5",
   "metadata": {},
   "outputs": [],
   "source": [
    "left_poll = [{\"mean\": -0.6, \"variance\": 0.3, \"prop\": 0.5}, {\"mean\": -0.75, \"variance\": 0.3, \"prop\": 0.5}]"
   ]
  },
  {
   "cell_type": "code",
   "execution_count": 288,
   "id": "2e785195-e873-4ada-ba1d-e35dbdba3477",
   "metadata": {},
   "outputs": [],
   "source": [
    "middle_poll = [{\"mean\": 0, \"variance\": 0.6, \"prop\": 0.7}, {\"mean\": 0.1, \"variance\": 0.4, \"prop\": 0.3}]"
   ]
  },
  {
   "cell_type": "code",
   "execution_count": 289,
   "id": "7c1feaec-7960-4915-a40a-a98e6f57ac1e",
   "metadata": {},
   "outputs": [],
   "source": [
    "right_poll = [{\"mean\": 0.75, \"variance\": 0.2, \"prop\": 0.65}, {\"mean\": 0.6, \"variance\": 0.4, \"prop\": 0.35}]"
   ]
  },
  {
   "cell_type": "code",
   "execution_count": 299,
   "id": "733b06fd-e827-4eae-9cc5-633f30ea4a4c",
   "metadata": {},
   "outputs": [],
   "source": [
    "def compute_vote(token_prop):\n",
    "    return np.sqrt(token_prop * 100)"
   ]
  },
  {
   "cell_type": "code",
   "execution_count": 309,
   "id": "3b51c51a-197c-474d-9aab-90d0a91b66d4",
   "metadata": {},
   "outputs": [],
   "source": [
    "total = []\n",
    "for poll in [left_poll, middle_poll, right_poll]:\n",
    "    for p in poll:\n",
    "        res = cdf_allocate(norm.cdf([-0.5, 0.5, p.get(\"mean\")], loc=p.get(\"mean\"), scale=p.get(\"variance\")))\n",
    "        res[\"prop\"] = p.get(\"prop\")\n",
    "        left = compute_vote(res.get(\"left_wing\")) * res.get(\"prop\") * 100\n",
    "        middle = compute_vote(res.get(\"middle_wing\")) * res.get(\"prop\") * 100\n",
    "        right = compute_vote(res.get(\"right_wing\")) * res.get(\"prop\") * 100\n",
    "        res[\"left\"] = left\n",
    "        res[\"middle\"] = middle\n",
    "        res[\"right\"] = right\n",
    "        total.append(res)"
   ]
  },
  {
   "cell_type": "code",
   "execution_count": 311,
   "id": "dadfe980-bdef-4948-82c6-e17ebb7bdd86",
   "metadata": {},
   "outputs": [
    {
     "data": {
      "text/plain": [
       "[{'left_wing': 0.6305586598182363,\n",
       "  'middle_wing': 0.3693184737917985,\n",
       "  'right_wing': 0.00012286638996517052,\n",
       "  'prop': 0.5,\n",
       "  'left': 397.03861897120174,\n",
       "  'middle': 303.85789186386063,\n",
       "  'right': 5.542255632077307},\n",
       " {'left_wing': 0.7976716190363569,\n",
       "  'middle_wing': 0.20231292666676082,\n",
       "  'right_wing': 1.545429688232236e-05,\n",
       "  'prop': 0.5,\n",
       "  'left': 446.5623190094404,\n",
       "  'middle': 224.89604635628928,\n",
       "  'right': 1.9655976751564879},\n",
       " {'left_wing': 0.20232838096364308,\n",
       "  'middle_wing': 0.5953432380727137,\n",
       "  'right_wing': 0.20232838096364314,\n",
       "  'prop': 0.7,\n",
       "  'left': 314.8664902338531,\n",
       "  'middle': 540.1094210024759,\n",
       "  'right': 314.86649023385314},\n",
       " {'left_wing': 0.06680720126885809,\n",
       "  'middle_wing': 0.7745375447996848,\n",
       "  'right_wing': 0.15865525393145707,\n",
       "  'prop': 0.3,\n",
       "  'left': 77.54126716914826,\n",
       "  'middle': 264.0234440953523,\n",
       "  'right': 119.49465617269728},\n",
       " {'left_wing': 2.0522634252189396e-10,\n",
       "  'middle_wing': 0.10564977346162902,\n",
       "  'right_wing': 0.8943502263331446,\n",
       "  'prop': 0.65,\n",
       "  'left': 0.009311720019174772,\n",
       "  'middle': 211.2747720091972,\n",
       "  'right': 614.7055967093139},\n",
       " {'left_wing': 0.002979763235054555,\n",
       "  'middle_wing': 0.39831391108202174,\n",
       "  'right_wing': 0.5987063256829237,\n",
       "  'prop': 0.35,\n",
       "  'left': 19.105522664773737,\n",
       "  'middle': 220.8924039154531,\n",
       "  'right': 270.8164044074106}]"
      ]
     },
     "execution_count": 311,
     "metadata": {},
     "output_type": "execute_result"
    }
   ],
   "source": [
    "total"
   ]
  },
  {
   "cell_type": "code",
   "execution_count": 314,
   "id": "7dda7069-c0e3-4eea-949a-8d0e50e9dd7d",
   "metadata": {},
   "outputs": [],
   "source": [
    "left = sum([x.get(\"left\") for x in total]) \n",
    "right = sum([x.get(\"right\") for x in total]) \n",
    "middle = sum([x.get(\"middle\") for x in total])"
   ]
  },
  {
   "cell_type": "code",
   "execution_count": 315,
   "id": "dea5cea7-6c6f-47ec-9023-cfb743825016",
   "metadata": {},
   "outputs": [
    {
     "data": {
      "text/plain": [
       "(1255.1235297684366, 1765.0539792426282, 1327.3910008305088)"
      ]
     },
     "execution_count": 315,
     "metadata": {},
     "output_type": "execute_result"
    }
   ],
   "source": [
    "left, middle, right"
   ]
  },
  {
   "cell_type": "code",
   "execution_count": null,
   "id": "466e625b-3a4f-45a1-a9e6-e1c7d0e9a63c",
   "metadata": {},
   "outputs": [],
   "source": []
  }
 ],
 "metadata": {
  "kernelspec": {
   "display_name": "Python 3 (ipykernel)",
   "language": "python",
   "name": "python3"
  },
  "language_info": {
   "codemirror_mode": {
    "name": "ipython",
    "version": 3
   },
   "file_extension": ".py",
   "mimetype": "text/x-python",
   "name": "python",
   "nbconvert_exporter": "python",
   "pygments_lexer": "ipython3",
   "version": "3.8.12"
  }
 },
 "nbformat": 4,
 "nbformat_minor": 5
}
